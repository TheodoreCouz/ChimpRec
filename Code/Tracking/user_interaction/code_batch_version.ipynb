{
 "cells": [
  {
   "cell_type": "markdown",
   "metadata": {},
   "source": [
    "<h2>File paths and imports</h2>"
   ]
  },
  {
   "cell_type": "code",
   "execution_count": null,
   "metadata": {},
   "outputs": [
    {
     "ename": "ModuleNotFoundError",
     "evalue": "No module named 'matplotlib'",
     "output_type": "error",
     "traceback": [
      "\u001b[1;31m---------------------------------------------------------------------------\u001b[0m",
      "\u001b[1;31mModuleNotFoundError\u001b[0m                       Traceback (most recent call last)",
      "Cell \u001b[1;32mIn[5], line 4\u001b[0m\n\u001b[0;32m      1\u001b[0m \u001b[38;5;28;01mimport\u001b[39;00m\u001b[38;5;250m \u001b[39m\u001b[38;5;21;01msys\u001b[39;00m\n\u001b[0;32m      2\u001b[0m sys\u001b[38;5;241m.\u001b[39mpath\u001b[38;5;241m.\u001b[39mappend(\u001b[38;5;124m\"\u001b[39m\u001b[38;5;124mC:/Users/Theo/Documents/Unif/ChimpRec/Code\u001b[39m\u001b[38;5;124m\"\u001b[39m)\n\u001b[1;32m----> 4\u001b[0m \u001b[38;5;28;01mfrom\u001b[39;00m\u001b[38;5;250m \u001b[39m\u001b[38;5;21;01mchimplib\u001b[39;00m\u001b[38;5;21;01m.\u001b[39;00m\u001b[38;5;21;01mimports\u001b[39;00m\u001b[38;5;250m \u001b[39m\u001b[38;5;28;01mimport\u001b[39;00m \u001b[38;5;241m*\u001b[39m\n\u001b[0;32m      6\u001b[0m \u001b[38;5;66;03m# path of the model\u001b[39;00m\n\u001b[0;32m      7\u001b[0m model_path \u001b[38;5;241m=\u001b[39m \u001b[38;5;124m\"\u001b[39m\u001b[38;5;124mC:/Users/Theo/Documents/Unif/Models/body/v8s/weights/best.pt\u001b[39m\u001b[38;5;124m\"\u001b[39m\n",
      "File \u001b[1;32mC:\\Users/Theo/Documents/Unif/ChimpRec/Code\\chimplib\\imports.py:3\u001b[0m\n\u001b[0;32m      1\u001b[0m \u001b[38;5;28;01mimport\u001b[39;00m\u001b[38;5;250m \u001b[39m\u001b[38;5;21;01mos\u001b[39;00m\n\u001b[0;32m      2\u001b[0m \u001b[38;5;28;01mimport\u001b[39;00m\u001b[38;5;250m \u001b[39m\u001b[38;5;21;01mcv2\u001b[39;00m\n\u001b[1;32m----> 3\u001b[0m \u001b[38;5;28;01mimport\u001b[39;00m\u001b[38;5;250m \u001b[39m\u001b[38;5;21;01mmatplotlib\u001b[39;00m\u001b[38;5;21;01m.\u001b[39;00m\u001b[38;5;21;01mpyplot\u001b[39;00m\u001b[38;5;250m \u001b[39m\u001b[38;5;28;01mas\u001b[39;00m\u001b[38;5;250m \u001b[39m\u001b[38;5;21;01mplt\u001b[39;00m\n\u001b[0;32m      4\u001b[0m \u001b[38;5;28;01mfrom\u001b[39;00m\u001b[38;5;250m \u001b[39m\u001b[38;5;21;01multralytics\u001b[39;00m\u001b[38;5;250m \u001b[39m\u001b[38;5;28;01mimport\u001b[39;00m YOLO\n\u001b[0;32m      5\u001b[0m \u001b[38;5;28;01mimport\u001b[39;00m\u001b[38;5;250m \u001b[39m\u001b[38;5;21;01mmath\u001b[39;00m\n",
      "\u001b[1;31mModuleNotFoundError\u001b[0m: No module named 'matplotlib'"
     ]
    }
   ],
   "source": [
    "import sys\n",
    "sys.path.append(\"C:/Users/Theo/Documents/Unif/ChimpRec/Code\")\n",
    "\n",
    "from chimplib.imports import *\n",
    "from chimplib.tracking_manual_correction import *\n",
    "\n",
    "# path of the model\n",
    "model_path = \"C:/Users/Theo/Documents/Unif/Models/body/v8s/weights/best.pt\"\n",
    "\n",
    "# video paths:\n",
    "# input video directory (without any annotation)\n",
    "input_video_directory = \"C:/Users/Theo/Documents/Unif/chimprec-videos/input_videos\"\n",
    "# output (final version - with human interaction)\n",
    "output_video_directory = \"C:/Users/Theo/Documents/Unif/chimprec-videos/output_videos\"\n",
    "# directory containing all the manual modifications\n",
    "\n",
    "mannual_annotations_directory = f\"{input_video_directory}/manual_annotations\"\n",
    "output_video_directory_temp = f\"{output_video_directory}/temp\"\n",
    "raw_text_output_directory = f\"{output_video_directory_temp}/raw_output\"\n",
    "\n",
    "# Create the directories if they do not exist yet\n",
    "os.makedirs(input_video_directory, exist_ok=True)\n",
    "os.makedirs(output_video_directory, exist_ok=True)\n",
    "os.makedirs(mannual_annotations_directory, exist_ok=True)\n",
    "os.makedirs(output_video_directory_temp, exist_ok=True)\n",
    "os.makedirs(raw_text_output_directory, exist_ok=True)"
   ]
  },
  {
   "cell_type": "markdown",
   "metadata": {},
   "source": [
    "<h2>First step:</h2>\n",
    "<h3>Processing the raw video without annotation and produce a textual output (stored in <i>input_text_file_path</i>) and a visual output (accessible via <i>output_video_path</i>).</h3>"
   ]
  },
  {
   "cell_type": "code",
   "execution_count": null,
   "metadata": {},
   "outputs": [
    {
     "name": "stdout",
     "output_type": "stream",
     "text": [
      "Successfully loaded imagenet pretrained weights from \"C:\\Users\\Theo/.cache\\torch\\checkpoints\\osnet_x1_0_imagenet.pth\"\n",
      "** The following layers are discarded due to unmatched keys or layer size: ['classifier.weight', 'classifier.bias']\n",
      "10\n",
      "20\n",
      "30\n",
      "40\n",
      "50\n",
      "60\n",
      "70\n",
      "80\n",
      "90\n",
      "100\n",
      "Annotations ready for video: C:/Users/Theo/Documents/Unif/chimprec-videos/input_videos\\C0005.MP4\n",
      "Treatment done: C:/Users/Theo/Documents/Unif/chimprec-videos/input_videos\\C0005.MP4\n",
      "10\n",
      "20\n",
      "30\n",
      "40\n",
      "50\n",
      "60\n",
      "70\n",
      "80\n",
      "90\n",
      "100\n",
      "Annotations ready for video: C:/Users/Theo/Documents/Unif/chimprec-videos/input_videos\\sample1.MP4\n",
      "Treatment done: C:/Users/Theo/Documents/Unif/chimprec-videos/input_videos\\sample1.MP4\n"
     ]
    }
   ],
   "source": [
    "max_cosine_distance = 0.5       # maximal distance to match an object (lower = more strict)\n",
    "nn_budget = None                # maximal buffer size\n",
    "metric = nn_matching.NearestNeighborDistanceMetric(\"cosine\", max_cosine_distance, nn_budget)\n",
    "\n",
    "# YOLOv8s initialisation\n",
    "YOLOv8s = YOLO(model_path)\n",
    "\n",
    "# DeepSORT initialisation\n",
    "DeepSort = DeepSortTracker(metric)\n",
    "\n",
    "# Osnet initialisation\n",
    "Osnet = torchreid.models.build_model(name='osnet_x1_0', num_classes=751, pretrained=True)\n",
    "Osnet.eval()\n",
    "\n",
    "for input_video in os.listdir(input_video_directory):\n",
    "    if input_video.endswith(\".mp4\") or input_video.endswith(\".MP4\"):\n",
    "\n",
    "        full_video_path = os.path.join(input_video_directory, input_video)\n",
    "        video_name = os.path.splitext(input_video)[0]\n",
    "\n",
    "        # production of the textual outputs\n",
    "        perform_tracking(\n",
    "            input_video_path = full_video_path, \n",
    "            output_text_file_path = f\"{raw_text_output_directory}/{video_name}.txt\", \n",
    "            detection_model = YOLOv8s, \n",
    "            tracker = DeepSort,\n",
    "            confidence_threshold = 0.5, \n",
    "            model_feature_extraction = Osnet\n",
    "        )\n",
    "        print(f\"Annotations ready for video: {full_video_path}\")\n",
    "\n",
    "        # production of the visual output\n",
    "        draw_bbox_from_file(\n",
    "            file_path = f\"{raw_text_output_directory}/{video_name}.txt\", \n",
    "            input_video_path = full_video_path, \n",
    "            output_video_path = f\"{output_video_directory_temp}/{video_name}-(temp).mp4\",\n",
    "            annotation_type=\"bbox\",\n",
    "            draw_frame_count=True\n",
    "        )\n",
    "        print(f\"Treatment done: {full_video_path}\")"
   ]
  },
  {
   "cell_type": "markdown",
   "metadata": {},
   "source": [
    "<h2>Third step:</h2>\n",
    "<h3>Processing the output of the two first steps to produce a textual output (stored in <i>output_text_file_path</i>) and a visual output (accessible via <i>output_edited_video_path</i>).</h3>"
   ]
  },
  {
   "cell_type": "code",
   "execution_count": 2,
   "metadata": {},
   "outputs": [
    {
     "name": "stdout",
     "output_type": "stream",
     "text": [
      "Error: the manual annotation file related to the video <C:/Users/Theo/Documents/Unif/chimprec-videos/input_videos\\sample1.MP4> is not found. It must be located at <C:/Users/Theo/Documents/Unif/chimprec-videos/input_videos/manual_annotations/sample1.txt>.\n"
     ]
    }
   ],
   "source": [
    "for input_video in os.listdir(input_video_directory):\n",
    "    if input_video.endswith(\".mp4\") or input_video.endswith(\".MP4\"):\n",
    "        full_video_path = os.path.join(input_video_directory, input_video)\n",
    "        video_name = os.path.splitext(input_video)[0]\n",
    "        annotation_file = f\"{mannual_annotations_directory}/{video_name}.txt\"\n",
    "\n",
    "        raw_reader = raw_tracking_data_reader(f\"{raw_text_output_directory}/{video_name}.txt\")\n",
    "\n",
    "        try:\n",
    "            edit_reader = modification_reader(annotation_file)\n",
    "        except:\n",
    "            print(f\"Error: the manual annotation file related to the video <{full_video_path}> is not found. It must be located at <{annotation_file}>.\")\n",
    "            continue\n",
    "        \n",
    "        metadata_file_path = f\"{output_video_directory}/{video_name}-treated.txt\"\n",
    "        output_video_path = f\"{output_video_directory}/{video_name}-treated.mp4\"\n",
    "        writer = data_writer(metadata_file_path)\n",
    "\n",
    "        # computation of the new metadata file\n",
    "        modified_data = edit_raw_output(raw_reader, edit_reader) \n",
    "\n",
    "        # production of the textual output\n",
    "        writer.write(modified_data)\n",
    "\n",
    "        # production of the visual output\n",
    "        draw_bbox_from_file(\n",
    "            file_path = metadata_file_path, \n",
    "            input_video_path = full_video_path, \n",
    "            output_video_path = output_video_path,\n",
    "            annotation_type=\"triangle\"\n",
    "        )"
   ]
  }
 ],
 "metadata": {
  "kernelspec": {
   "display_name": "Python 3",
   "language": "python",
   "name": "python3"
  },
  "language_info": {
   "codemirror_mode": {
    "name": "ipython",
    "version": 3
   },
   "file_extension": ".py",
   "mimetype": "text/x-python",
   "name": "python",
   "nbconvert_exporter": "python",
   "pygments_lexer": "ipython3",
   "version": "3.10.0"
  }
 },
 "nbformat": 4,
 "nbformat_minor": 2
}
