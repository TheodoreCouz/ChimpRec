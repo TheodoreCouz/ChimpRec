{
 "cells": [
  {
   "cell_type": "code",
   "execution_count": 1,
   "metadata": {},
   "outputs": [
    {
     "name": "stderr",
     "output_type": "stream",
     "text": [
      "c:\\Users\\Theo\\Documents\\Unif\\ChimpRec\\Code\\Body_detection\\Metric\\.venv\\lib\\site-packages\\torchreid\\reid\\metrics\\rank.py:11: UserWarning: Cython evaluation (very fast so highly recommended) is unavailable, now use python evaluation.\n",
      "  warnings.warn(\n"
     ]
    }
   ],
   "source": [
    "from ui_lib import *\n",
    "\n",
    "detection_model = YOLO(\"C:/Users/Theo/Documents/Unif/Models/body/v8s/weights/best.pt\")\n",
    "input_video_path = \"C:/Users/Theo/Documents/Unif/chimprec-videos/sample1.mp4\"\n",
    "input_text_file_path = \"C:/Users/Theo/Documents/Unif/chimprec/Code/Tracking/user_interaction/output_test.txt\"\n",
    "output_text_file_path = \"C:/Users/Theo/Documents/Unif/chimprec/Code/Tracking/user_interaction/output_edited.txt\"\n",
    "output_video_path = \"C:/Users/Theo/Documents/Unif/chimprec-videos/sample1_treated.mp4\"\n",
    "output_edited_video_path = \"C:/Users/Theo/Documents/Unif/chimprec-videos/sample1_treated_edited.mp4\"\n",
    "edit_path = \"C:/Users/Theo/Documents/Unif/chimprec/Code/Tracking/user_interaction/edit_test.txt\""
   ]
  },
  {
   "cell_type": "code",
   "execution_count": null,
   "metadata": {},
   "outputs": [],
   "source": [
    "model_feature_extraction = torchreid.models.build_model(name='osnet_x1_0', num_classes=751, pretrained=True)\n",
    "model_feature_extraction.eval()\n",
    "\n",
    "# Paramètres de DeepSORT\n",
    "max_cosine_distance = 0.5  # Distance max pour matcher un objet (plus bas = plus strict)\n",
    "nn_budget = None  # Taille max du buffer pour le modèle d'appariement\n",
    "metric = nn_matching.NearestNeighborDistanceMetric(\"cosine\", max_cosine_distance, nn_budget)\n",
    "# Initialiser DeepSORT\n",
    "tracker = DeepSortTracker(metric)\n",
    "\n",
    "perform_tracking(input_video_path, input_text_file_path, detection_model, tracker, 0.5, model_feature_extraction)\n",
    "# draw_bbox_from_file(output_text_file_path, input_video_path, output_video_path, colors)"
   ]
  },
  {
   "cell_type": "code",
   "execution_count": 3,
   "metadata": {},
   "outputs": [],
   "source": [
    "draw_bbox_from_file(input_text_file_path, input_video_path, output_video_path, colors)"
   ]
  },
  {
   "cell_type": "code",
   "execution_count": 2,
   "metadata": {},
   "outputs": [],
   "source": [
    "draw_bbox_from_file(output_text_file_path, input_video_path, output_edited_video_path, colors)"
   ]
  },
  {
   "cell_type": "code",
   "execution_count": 6,
   "metadata": {},
   "outputs": [],
   "source": [
    "raw_reader = raw_tracking_data_reader(input_text_file_path)\n",
    "edit_reader = modification_reader(edit_path)\n",
    "writer = data_writer(output_text_file_path)\n",
    "\n",
    "modified_data = edit_raw_output(raw_reader, edit_reader)  \n",
    "writer.write(modified_data)\n",
    "\n",
    "# draw_bbox_from_file(input_text_file_path, input_video_path, output_edited_video_path, colors)"
   ]
  },
  {
   "cell_type": "code",
   "execution_count": 3,
   "metadata": {},
   "outputs": [
    {
     "name": "stdout",
     "output_type": "stream",
     "text": [
      "[['UNK_0', ['3']], ['UNK_1', ['4', '2']]]\n"
     ]
    }
   ],
   "source": [
    "# test cell\n",
    "from ui_lib import *\n",
    "raw_path = \"C:/Users/Theo/Documents/Unif/chimprec/Code/Tracking/user_interaction/test_files/raw_output.txt\"\n",
    "edit_path = \"C:/Users/Theo/Documents/Unif/chimprec/Code/Tracking/user_interaction/test_files/edit_stage1.txt\"\n",
    "output_file_path = \"C:/Users/Theo/Documents/Unif/chimprec/Code/Tracking/user_interaction/test_files/output_stage_1.txt\"\n",
    "\n",
    "raw_reader = raw_tracking_data_reader(raw_path)\n",
    "edit_reader = modification_reader(edit_path)\n",
    "\n",
    "print(edit_reader.data)\n",
    "\n",
    "writer = data_writer(output_file_path)\n",
    "\n",
    "modified_data = edit_raw_output(raw_reader, edit_reader)  \n",
    "writer.write(modified_data)"
   ]
  }
 ],
 "metadata": {
  "kernelspec": {
   "display_name": ".venv",
   "language": "python",
   "name": "python3"
  },
  "language_info": {
   "codemirror_mode": {
    "name": "ipython",
    "version": 3
   },
   "file_extension": ".py",
   "mimetype": "text/x-python",
   "name": "python",
   "nbconvert_exporter": "python",
   "pygments_lexer": "ipython3",
   "version": "3.10.0"
  }
 },
 "nbformat": 4,
 "nbformat_minor": 2
}
