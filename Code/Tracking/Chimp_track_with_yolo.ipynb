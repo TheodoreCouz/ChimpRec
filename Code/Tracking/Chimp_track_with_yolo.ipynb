{
 "cells": [
  {
   "cell_type": "code",
   "execution_count": 1,
   "metadata": {},
   "outputs": [],
   "source": [
    "from ultralytics import YOLO \n",
    "import cv2"
   ]
  },
  {
   "cell_type": "code",
   "execution_count": 2,
   "metadata": {},
   "outputs": [],
   "source": [
    "model = YOLO(\"C:/Users/julie/OneDrive - UCL/Master_2/Mémoire/ChimpRec/Code/Body_detection/YOLO_small/runs/detect/train9/weights/best.pt\")"
   ]
  },
  {
   "cell_type": "code",
   "execution_count": null,
   "metadata": {},
   "outputs": [],
   "source": [
    "#video_path = \"C:/Users/julie/OneDrive - UCL/Master_2/Mémoire/Chimprec Dataset/Videos/Identification/Collective/20241218 - 12h42.MP4\"\n",
    "video_path = \"C:/Users/julie/Documents/Unif/Mémoire/video_test.mp4\"\n",
    "cap = cv2.VideoCapture(video_path)"
   ]
  },
  {
   "cell_type": "code",
   "execution_count": 6,
   "metadata": {},
   "outputs": [
    {
     "name": "stdout",
     "output_type": "stream",
     "text": [
      "\n",
      "0: 384x640 3 Bodys, 165.1ms\n",
      "Speed: 3.2ms preprocess, 165.1ms inference, 1.3ms postprocess per image at shape (1, 3, 384, 640)\n",
      "[ultralytics.engine.results.Results object with attributes:\n",
      "\n",
      "boxes: ultralytics.engine.results.Boxes object\n",
      "keypoints: None\n",
      "masks: None\n",
      "names: {0: 'Body'}\n",
      "obb: None\n",
      "orig_img: array([[[125, 140, 138],\n",
      "        [143, 158, 156],\n",
      "        [158, 173, 171],\n",
      "        ...,\n",
      "        [ 43,  28,  24],\n",
      "        [ 41,  28,  24],\n",
      "        [ 41,  28,  24]],\n",
      "\n",
      "       [[ 47,  62,  60],\n",
      "        [ 53,  68,  66],\n",
      "        [ 59,  74,  72],\n",
      "        ...,\n",
      "        [ 43,  28,  24],\n",
      "        [ 41,  28,  24],\n",
      "        [ 41,  28,  24]],\n",
      "\n",
      "       [[ 32,  42,  39],\n",
      "        [ 32,  42,  39],\n",
      "        [ 36,  44,  41],\n",
      "        ...,\n",
      "        [ 43,  28,  24],\n",
      "        [ 41,  28,  24],\n",
      "        [ 41,  28,  24]],\n",
      "\n",
      "       ...,\n",
      "\n",
      "       [[ 92,  96, 112],\n",
      "        [ 88,  92, 108],\n",
      "        [ 84,  88, 104],\n",
      "        ...,\n",
      "        [ 44,  35,  39],\n",
      "        [ 43,  34,  38],\n",
      "        [ 43,  34,  38]],\n",
      "\n",
      "       [[ 92,  96, 112],\n",
      "        [ 88,  92, 108],\n",
      "        [ 84,  88, 104],\n",
      "        ...,\n",
      "        [ 43,  34,  38],\n",
      "        [ 43,  34,  38],\n",
      "        [ 43,  34,  38]],\n",
      "\n",
      "       [[ 91,  95, 111],\n",
      "        [ 87,  91, 107],\n",
      "        [ 82,  86, 102],\n",
      "        ...,\n",
      "        [ 43,  34,  38],\n",
      "        [ 43,  34,  38],\n",
      "        [ 43,  34,  38]]], dtype=uint8)\n",
      "orig_shape: (1080, 1920)\n",
      "path: 'image0.jpg'\n",
      "probs: None\n",
      "save_dir: 'runs\\\\detect\\\\track'\n",
      "speed: {'preprocess': 3.2136999998328974, 'inference': 165.1488999996218, 'postprocess': 1.309400000536698}]\n"
     ]
    }
   ],
   "source": [
    "\n",
    "ret = True\n",
    "# read frames\n",
    "while ret:\n",
    "    ret, frame = cap.read()\n",
    "\n",
    "    if ret:\n",
    "\n",
    "        # detect objects\n",
    "        # track objects\n",
    "        results = model.track(frame, persist=True)\n",
    "        print(results)\n",
    "        break\n",
    "\n",
    "        # plot results\n",
    "        # cv2.rectangle\n",
    "        # cv2.putText\n",
    "        frame_ = results[0].plot()\n",
    "\n",
    "        # visualize\n",
    "        cv2.imshow('frame', frame_)\n",
    "        if cv2.waitKey(25) & 0xFF == ord('q'):\n",
    "            break"
   ]
  }
 ],
 "metadata": {
  "kernelspec": {
   "display_name": "Python 3",
   "language": "python",
   "name": "python3"
  },
  "language_info": {
   "codemirror_mode": {
    "name": "ipython",
    "version": 3
   },
   "file_extension": ".py",
   "mimetype": "text/x-python",
   "name": "python",
   "nbconvert_exporter": "python",
   "pygments_lexer": "ipython3",
   "version": "3.11.9"
  }
 },
 "nbformat": 4,
 "nbformat_minor": 2
}
