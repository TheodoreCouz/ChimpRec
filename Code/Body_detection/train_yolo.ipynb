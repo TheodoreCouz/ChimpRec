{
 "cells": [
  {
   "cell_type": "code",
   "execution_count": null,
   "id": "5047deda",
   "metadata": {},
   "outputs": [],
   "source": [
    "import sys\n",
    "sys.path.append(\"PATH TO /Code\")\n",
    "from chimplib.imports import YOLO, torch, os\n",
    "\n",
    "# check that cuda is available\n",
    "print(torch.cuda.is_available())  \n",
    "print(torch.version.cuda)  \n",
    "print(torch.cuda.get_device_name(0))  "
   ]
  },
  {
   "cell_type": "code",
   "execution_count": null,
   "id": "e26d5284",
   "metadata": {},
   "outputs": [],
   "source": [
    "os.environ[\"CUDA_LAUNCH_BLOCKING\"] = \"1\"\n",
    "\n",
    "# Load model YOLOv8\n",
    "model = YOLO(\"yolov8s.yaml\")\n",
    "\n",
    "# Train model\n",
    "results = model.train(data=\"config.yaml\", epochs=150, batch=32, patience=15, device=\"cuda\")"
   ]
  }
 ],
 "metadata": {
  "kernelspec": {
   "display_name": "new_venv",
   "language": "python",
   "name": "python3"
  },
  "language_info": {
   "name": "python",
   "version": "3.11.5"
  }
 },
 "nbformat": 4,
 "nbformat_minor": 5
}
