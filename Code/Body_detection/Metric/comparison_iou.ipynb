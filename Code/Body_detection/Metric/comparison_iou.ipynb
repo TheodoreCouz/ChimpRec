{
 "cells": [
  {
   "cell_type": "code",
   "execution_count": null,
   "id": "e31c799d",
   "metadata": {},
   "outputs": [],
   "source": [
    "test_set = \"...\" # root folder of the test set\n",
    "model_path = \"...\"\n",
    "\n",
    "import sys\n",
    "sys.path.append(\"PATH TO /Code\")\n",
    "from chimplib.plots import plot_iou_comparison"
   ]
  },
  {
   "cell_type": "code",
   "execution_count": null,
   "id": "d70f4fb1",
   "metadata": {},
   "outputs": [],
   "source": [
    "plot_iou_comparison(\n",
    "    model_path,\n",
    "    yaml_file=\"...\",\n",
    "    images=f\"{test_set}/images\",\n",
    "    labels=f\"{test_set}/labels\",\n",
    "    t_iou=0.6,\n",
    "    out_path=\"...\"\n",
    ")"
   ]
  }
 ],
 "metadata": {
  "kernelspec": {
   "display_name": "new_venv",
   "language": "python",
   "name": "python3"
  },
  "language_info": {
   "codemirror_mode": {
    "name": "ipython",
    "version": 3
   },
   "file_extension": ".py",
   "mimetype": "text/x-python",
   "name": "python",
   "nbconvert_exporter": "python",
   "pygments_lexer": "ipython3",
   "version": "3.11.5"
  }
 },
 "nbformat": 4,
 "nbformat_minor": 5
}
