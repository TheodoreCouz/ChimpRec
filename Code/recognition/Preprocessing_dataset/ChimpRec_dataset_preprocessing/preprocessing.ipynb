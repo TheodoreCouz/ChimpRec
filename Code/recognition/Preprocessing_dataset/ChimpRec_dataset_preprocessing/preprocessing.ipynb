{
 "cells": [
  {
   "cell_type": "code",
   "execution_count": 34,
   "metadata": {},
   "outputs": [],
   "source": [
    "import os\n",
    "import random\n",
    "from sklearn.model_selection import train_test_split\n",
    "import shutil"
   ]
  },
  {
   "cell_type": "code",
   "execution_count": 35,
   "metadata": {},
   "outputs": [],
   "source": [
    "def create_clean_directory(path):\n",
    "    if os.path.exists(path):\n",
    "        shutil.rmtree(path)  \n",
    "    os.makedirs(path)   \n",
    "\n",
    "def get_corresponding_labels(imgs): \n",
    "    labels = []\n",
    "    for img in imgs: \n",
    "        labels.append(f\"{img[:-3]}txt\")\n",
    "    return labels\n",
    "\n",
    "def copy_element(elems, source, destination): \n",
    "    for elem in elems: \n",
    "        shutil.copy(f\"{source}/{elem}\", f\"{destination}/{elem}\")"
   ]
  },
  {
   "cell_type": "code",
   "execution_count": 36,
   "metadata": {},
   "outputs": [],
   "source": [
    "general_dataset = \"C:/Users/julie/OneDrive - UCL/Master_2/Mémoire/Chimprec Dataset/ChimpRec Recognition/General\"\n",
    "preprocessed_dataset = \"C:/Users/julie/OneDrive - UCL/Master_2/Mémoire/Chimprec Dataset/ChimpRec Recognition/Preprocess\""
   ]
  },
  {
   "cell_type": "code",
   "execution_count": 37,
   "metadata": {},
   "outputs": [],
   "source": [
    "individuals = os.listdir(general_dataset)\n",
    "\n",
    "for ind in individuals: \n",
    "    general_ind_img_dir = f\"{general_dataset}/{ind}/images\"\n",
    "    general_ind_labels_dir = f\"{general_dataset}/{ind}/labels/obj_train_data\"\n",
    "    train_img, val_img = train_test_split(os.listdir(general_ind_img_dir), test_size=0.2, random_state=42)\n",
    "    train_labels = get_corresponding_labels(train_img)\n",
    "    val_labels = get_corresponding_labels(val_img)\n",
    "\n",
    "    preprocess_train_ind_img_dir = f\"{preprocessed_dataset}/train/{ind}/images\"\n",
    "    preprocess_train_ind_labels_dir = f\"{preprocessed_dataset}/train/{ind}/labels\"\n",
    "    preprocess_val_ind_img_dir = f\"{preprocessed_dataset}/val/{ind}/images\"\n",
    "    preprocess_val_ind_labels_dir = f\"{preprocessed_dataset}/val/{ind}/labels\"\n",
    "    \"\"\"create_clean_directory(f\"{preprocessed_dataset}/train/{ind}\")\n",
    "    create_clean_directory(f\"{preprocessed_dataset}/val/{ind}\")\n",
    "    create_clean_directory(preprocess_train_ind_img_dir)\n",
    "    create_clean_directory(preprocess_train_ind_labels_dir)\n",
    "    create_clean_directory(preprocess_val_ind_img_dir)\n",
    "    create_clean_directory(preprocess_val_ind_labels_dir)\"\"\"\n",
    "\n",
    "    copy_element(train_img, general_ind_img_dir, preprocess_train_ind_img_dir)\n",
    "    copy_element(val_img, general_ind_img_dir, preprocess_val_ind_img_dir)\n",
    "    copy_element(train_labels, general_ind_labels_dir, preprocess_train_ind_labels_dir)\n",
    "    copy_element(val_labels, general_ind_labels_dir, preprocess_val_ind_labels_dir)"
   ]
  }
 ],
 "metadata": {
  "kernelspec": {
   "display_name": "Python 3",
   "language": "python",
   "name": "python3"
  },
  "language_info": {
   "codemirror_mode": {
    "name": "ipython",
    "version": 3
   },
   "file_extension": ".py",
   "mimetype": "text/x-python",
   "name": "python",
   "nbconvert_exporter": "python",
   "pygments_lexer": "ipython3",
   "version": "3.11.9"
  }
 },
 "nbformat": 4,
 "nbformat_minor": 2
}
