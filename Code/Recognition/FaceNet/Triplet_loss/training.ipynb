{
 "cells": [
  {
   "cell_type": "markdown",
   "id": "be7a1171",
   "metadata": {},
   "source": [
    "<h2>File paths and imports<h2>"
   ]
  },
  {
   "cell_type": "code",
   "execution_count": 1,
   "id": "c2373cab",
   "metadata": {},
   "outputs": [
    {
     "name": "stderr",
     "output_type": "stream",
     "text": [
      "c:\\Users\\julie\\AppData\\Local\\Programs\\Python\\Python311\\Lib\\site-packages\\torchreid\\reid\\metrics\\rank.py:11: UserWarning: Cython evaluation (very fast so highly recommended) is unavailable, now use python evaluation.\n",
      "  warnings.warn(\n",
      "c:\\Users\\julie\\AppData\\Local\\Programs\\Python\\Python311\\Lib\\site-packages\\tqdm\\auto.py:21: TqdmWarning: IProgress not found. Please update jupyter and ipywidgets. See https://ipywidgets.readthedocs.io/en/stable/user_install.html\n",
      "  from .autonotebook import tqdm as notebook_tqdm\n"
     ]
    }
   ],
   "source": [
    "import sys \n",
    "sys.path.append(\"C:/Users/julie/OneDrive - UCL/Master_2/Mémoire/ChimpRec/Code\")\n",
    "\n",
    "from chimplib.imports import *\n",
    "from chimplib.recognition_utils import *\n",
    "\n",
    "#Path to the root of the ChimpRec database \".../Chimprec Dataset/Datasets/Face Recognition/ChimpRec\"\n",
    "chimprec_dataset_path = \"C:/Users/julie/OneDrive - UCL/Master_2/Mémoire/Chimprec Dataset/Datasets/Face Recognition/ChimpRec\"\n",
    "#Path to store the different models based on the triplet loss for ChimpRec (typically \"./Code/recognition/FaceNet/Models/ChimpRec_triplet_loss\")\n",
    "chimprec_models_tl_path = \"C:/Users/julie/OneDrive - UCL/Master_2/Mémoire/ChimpRec/Code/recognition/FaceNet/Models/ChimpRec_triplet_loss\"\n",
    "\n",
    "#Path to the root of the CCR database \".../Chimprec Dataset/Datasets/Face Recognition/CCR\"\n",
    "ccr_dataset_path = \"C:/Users/julie/OneDrive - UCL/Master_2/Mémoire/Chimprec Dataset/Datasets/Face Recognition/CCR\"\n",
    "#Path where the different models based on the triplet loss for CCR are stored (typically \"./Code/recognition/FaceNet/Models/CCR_triplet_loss\")\n",
    "ccr_models_tl_path = \"C:/Users/julie/OneDrive - UCL/Master_2/Mémoire/ChimpRec/Code/recognition/FaceNet/Models/CCR_triplet_loss\""
   ]
  },
  {
   "cell_type": "markdown",
   "id": "ee0506ea",
   "metadata": {},
   "source": [
    "<h2>Utils<h2>"
   ]
  },
  {
   "cell_type": "code",
   "execution_count": 2,
   "id": "a982266a",
   "metadata": {},
   "outputs": [],
   "source": [
    "#Transformation to be applied to network input images\n",
    "transform = transforms.Compose([\n",
    "    transforms.Resize((160, 160)),\n",
    "    transforms.ToTensor(),\n",
    "    transforms.Normalize([0.5, 0.5, 0.5], [0.5, 0.5, 0.5])\n",
    "])\n",
    "\n",
    "layers_to_test = [5,7,9,10,11,12,13,14,15]"
   ]
  },
  {
   "cell_type": "markdown",
   "id": "b0ce05e8",
   "metadata": {},
   "source": [
    "<h3>Training of ChimpRec models<h3>"
   ]
  },
  {
   "cell_type": "code",
   "execution_count": null,
   "id": "f785635e",
   "metadata": {},
   "outputs": [],
   "source": [
    "for nb_layer in layers_to_test: \n",
    "    model_file = f\"{chimprec_models_tl_path}/facenet_{nb_layer}_layers_triplet_loss.pth\"\n",
    "    create_model(\"TripletLoss\", chimprec_dataset_path, model_file, transform, nb_layer, True)"
   ]
  },
  {
   "cell_type": "markdown",
   "id": "883ca850",
   "metadata": {},
   "source": [
    "<h3>Training of CCR models<h3>"
   ]
  },
  {
   "cell_type": "code",
   "execution_count": 3,
   "id": "10854110",
   "metadata": {},
   "outputs": [
    {
     "name": "stdout",
     "output_type": "stream",
     "text": [
      "\n",
      "Epoch 1/100\n",
      "-----------------------\n",
      "Train Loss: 0.3878\n",
      "Val Loss: 0.5341\n",
      "\n",
      "Epoch 2/100\n",
      "-----------------------\n",
      "Train Loss: 0.2404\n",
      "Val Loss: 0.6464\n",
      "Early stopping: 1/10\n",
      "\n",
      "Epoch 3/100\n",
      "-----------------------\n",
      "Train Loss: 0.1768\n",
      "Val Loss: 0.5187\n",
      "\n",
      "Epoch 4/100\n",
      "-----------------------\n",
      "Train Loss: 0.1627\n",
      "Val Loss: 0.5411\n",
      "Early stopping: 1/10\n",
      "\n",
      "Epoch 5/100\n",
      "-----------------------\n",
      "Train Loss: 0.1327\n",
      "Val Loss: 0.4678\n",
      "\n",
      "Epoch 6/100\n",
      "-----------------------\n",
      "Train Loss: 0.1055\n",
      "Val Loss: 0.5239\n",
      "Early stopping: 1/10\n",
      "\n",
      "Epoch 7/100\n",
      "-----------------------\n",
      "Train Loss: 0.1065\n",
      "Val Loss: 0.4619\n",
      "\n",
      "Epoch 8/100\n",
      "-----------------------\n",
      "Train Loss: 0.0807\n",
      "Val Loss: 0.5113\n",
      "Early stopping: 1/10\n",
      "\n",
      "Epoch 9/100\n",
      "-----------------------\n",
      "Train Loss: 0.0773\n",
      "Val Loss: 0.5304\n",
      "Early stopping: 2/10\n",
      "\n",
      "Epoch 10/100\n",
      "-----------------------\n",
      "Train Loss: 0.0678\n",
      "Val Loss: 0.5076\n",
      "Early stopping: 3/10\n",
      "\n",
      "Epoch 11/100\n",
      "-----------------------\n",
      "Train Loss: 0.0515\n",
      "Val Loss: 0.4482\n",
      "\n",
      "Epoch 12/100\n",
      "-----------------------\n",
      "Train Loss: 0.0478\n",
      "Val Loss: 0.5620\n",
      "Early stopping: 1/10\n",
      "\n",
      "Epoch 13/100\n",
      "-----------------------\n",
      "Train Loss: 0.0554\n",
      "Val Loss: 0.4967\n",
      "Early stopping: 2/10\n",
      "\n",
      "Epoch 14/100\n",
      "-----------------------\n",
      "Train Loss: 0.0424\n",
      "Val Loss: 0.5160\n",
      "Early stopping: 3/10\n",
      "\n",
      "Epoch 15/100\n",
      "-----------------------\n",
      "Train Loss: 0.0337\n",
      "Val Loss: 0.5171\n",
      "Early stopping: 4/10\n",
      "\n",
      "Epoch 16/100\n",
      "-----------------------\n",
      "Train Loss: 0.0321\n",
      "Val Loss: 0.5164\n",
      "Early stopping: 5/10\n",
      "\n",
      "Epoch 17/100\n",
      "-----------------------\n",
      "Train Loss: 0.0354\n",
      "Val Loss: 0.5111\n",
      "Early stopping: 6/10\n",
      "\n",
      "Epoch 18/100\n",
      "-----------------------\n",
      "Train Loss: 0.0332\n",
      "Val Loss: 0.5161\n",
      "Early stopping: 7/10\n",
      "\n",
      "Epoch 19/100\n",
      "-----------------------\n",
      "Train Loss: 0.0255\n",
      "Val Loss: 0.5065\n",
      "Early stopping: 8/10\n",
      "\n",
      "Epoch 20/100\n",
      "-----------------------\n",
      "Train Loss: 0.0158\n",
      "Val Loss: 0.5163\n",
      "Early stopping: 9/10\n",
      "\n",
      "Epoch 21/100\n",
      "-----------------------\n",
      "Train Loss: 0.0136\n",
      "Val Loss: 0.4655\n",
      "Early stopping: 10/10\n",
      "Early stopping déclenché.\n"
     ]
    }
   ],
   "source": [
    "for nb_layer in layers_to_test: \n",
    "    model_file = f\"{ccr_models_tl_path}/facenet_{nb_layer}_layers_triplet_loss.pth\"\n",
    "    create_model(\"TripletLoss\", ccr_dataset_path, model_file, transform, nb_layer, False)"
   ]
  }
 ],
 "metadata": {
  "kernelspec": {
   "display_name": "Python 3",
   "language": "python",
   "name": "python3"
  },
  "language_info": {
   "codemirror_mode": {
    "name": "ipython",
    "version": 3
   },
   "file_extension": ".py",
   "mimetype": "text/x-python",
   "name": "python",
   "nbconvert_exporter": "python",
   "pygments_lexer": "ipython3",
   "version": "3.11.9"
  }
 },
 "nbformat": 4,
 "nbformat_minor": 5
}
