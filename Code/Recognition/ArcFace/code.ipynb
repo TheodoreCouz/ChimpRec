{
 "cells": [
  {
   "cell_type": "markdown",
   "metadata": {},
   "source": [
    "InsightFace -> utilise ArcFace"
   ]
  },
  {
   "cell_type": "code",
   "execution_count": 1,
   "metadata": {},
   "outputs": [
    {
     "data": {
      "text/plain": [
       "'from arcface import ArcFace\\n\\nmodel = ArcFace(pretrained=True)\\nembedding = model.forward(image_tensor)'"
      ]
     },
     "execution_count": 1,
     "metadata": {},
     "output_type": "execute_result"
    }
   ],
   "source": [
    "\"\"\"from arcface import ArcFace\n",
    "\n",
    "model = ArcFace(pretrained=True)\n",
    "embedding = model.forward(image_tensor)\"\"\"\n"
   ]
  },
  {
   "cell_type": "code",
   "execution_count": 2,
   "metadata": {
    "vscode": {
     "languageId": "bat"
    }
   },
   "outputs": [
    {
     "name": "stdout",
     "output_type": "stream",
     "text": [
      "Requirement already satisfied: torchvision in c:\\users\\julie\\appdata\\local\\programs\\python\\python312\\lib\\site-packages (0.17.2)\n",
      "Requirement already satisfied: numpy in c:\\users\\julie\\appdata\\local\\programs\\python\\python312\\lib\\site-packages (from torchvision) (1.26.4)\n",
      "Requirement already satisfied: torch==2.2.2 in c:\\users\\julie\\appdata\\local\\programs\\python\\python312\\lib\\site-packages (from torchvision) (2.2.2)\n",
      "Requirement already satisfied: pillow!=8.3.*,>=5.3.0 in c:\\users\\julie\\appdata\\local\\programs\\python\\python312\\lib\\site-packages (from torchvision) (10.2.0)\n",
      "Requirement already satisfied: filelock in c:\\users\\julie\\appdata\\local\\programs\\python\\python312\\lib\\site-packages (from torch==2.2.2->torchvision) (3.16.1)\n",
      "Requirement already satisfied: typing-extensions>=4.8.0 in c:\\users\\julie\\appdata\\local\\programs\\python\\python312\\lib\\site-packages (from torch==2.2.2->torchvision) (4.12.2)\n",
      "Requirement already satisfied: sympy in c:\\users\\julie\\appdata\\local\\programs\\python\\python312\\lib\\site-packages (from torch==2.2.2->torchvision) (1.13.1)\n",
      "Requirement already satisfied: networkx in c:\\users\\julie\\appdata\\local\\programs\\python\\python312\\lib\\site-packages (from torch==2.2.2->torchvision) (3.2.1)\n",
      "Requirement already satisfied: jinja2 in c:\\users\\julie\\appdata\\local\\programs\\python\\python312\\lib\\site-packages (from torch==2.2.2->torchvision) (3.1.4)\n",
      "Requirement already satisfied: fsspec in c:\\users\\julie\\appdata\\local\\programs\\python\\python312\\lib\\site-packages (from torch==2.2.2->torchvision) (2024.10.0)\n",
      "Requirement already satisfied: MarkupSafe>=2.0 in c:\\users\\julie\\appdata\\local\\programs\\python\\python312\\lib\\site-packages (from jinja2->torch==2.2.2->torchvision) (2.1.5)\n",
      "Requirement already satisfied: mpmath<1.4,>=1.1.0 in c:\\users\\julie\\appdata\\local\\programs\\python\\python312\\lib\\site-packages (from sympy->torch==2.2.2->torchvision) (1.3.0)\n",
      "Requirement already satisfied: onnx==1.16.1 in c:\\users\\julie\\appdata\\local\\programs\\python\\python312\\lib\\site-packages (1.16.1)\n",
      "Requirement already satisfied: numpy>=1.20 in c:\\users\\julie\\appdata\\local\\programs\\python\\python312\\lib\\site-packages (from onnx==1.16.1) (1.26.4)\n",
      "Requirement already satisfied: protobuf>=3.20.2 in c:\\users\\julie\\appdata\\local\\programs\\python\\python312\\lib\\site-packages (from onnx==1.16.1) (4.25.3)\n",
      "Requirement already satisfied: insightface==0.7.3 in c:\\users\\julie\\appdata\\local\\programs\\python\\python312\\lib\\site-packages (0.7.3)\n",
      "Requirement already satisfied: numpy in c:\\users\\julie\\appdata\\local\\programs\\python\\python312\\lib\\site-packages (from insightface==0.7.3) (1.26.4)\n",
      "Requirement already satisfied: onnx in c:\\users\\julie\\appdata\\local\\programs\\python\\python312\\lib\\site-packages (from insightface==0.7.3) (1.16.1)\n",
      "Requirement already satisfied: tqdm in c:\\users\\julie\\appdata\\local\\programs\\python\\python312\\lib\\site-packages (from insightface==0.7.3) (4.66.5)\n",
      "Requirement already satisfied: requests in c:\\users\\julie\\appdata\\local\\programs\\python\\python312\\lib\\site-packages (from insightface==0.7.3) (2.31.0)\n",
      "Requirement already satisfied: matplotlib in c:\\users\\julie\\appdata\\local\\programs\\python\\python312\\lib\\site-packages (from insightface==0.7.3) (3.8.3)\n",
      "Requirement already satisfied: Pillow in c:\\users\\julie\\appdata\\local\\programs\\python\\python312\\lib\\site-packages (from insightface==0.7.3) (10.2.0)\n",
      "Requirement already satisfied: scipy in c:\\users\\julie\\appdata\\local\\programs\\python\\python312\\lib\\site-packages (from insightface==0.7.3) (1.12.0)\n",
      "Requirement already satisfied: scikit-learn in c:\\users\\julie\\appdata\\local\\programs\\python\\python312\\lib\\site-packages (from insightface==0.7.3) (1.4.1.post1)\n",
      "Requirement already satisfied: scikit-image in c:\\users\\julie\\appdata\\local\\programs\\python\\python312\\lib\\site-packages (from insightface==0.7.3) (0.24.0)\n",
      "Requirement already satisfied: easydict in c:\\users\\julie\\appdata\\local\\programs\\python\\python312\\lib\\site-packages (from insightface==0.7.3) (1.13)\n",
      "Requirement already satisfied: cython in c:\\users\\julie\\appdata\\local\\programs\\python\\python312\\lib\\site-packages (from insightface==0.7.3) (3.0.11)\n",
      "Requirement already satisfied: albumentations in c:\\users\\julie\\appdata\\local\\programs\\python\\python312\\lib\\site-packages (from insightface==0.7.3) (1.4.22)\n",
      "Requirement already satisfied: prettytable in c:\\users\\julie\\appdata\\local\\programs\\python\\python312\\lib\\site-packages (from insightface==0.7.3) (3.12.0)\n",
      "Requirement already satisfied: PyYAML in c:\\users\\julie\\appdata\\local\\programs\\python\\python312\\lib\\site-packages (from albumentations->insightface==0.7.3) (6.0.2)\n",
      "Requirement already satisfied: pydantic>=2.9.2 in c:\\users\\julie\\appdata\\local\\programs\\python\\python312\\lib\\site-packages (from albumentations->insightface==0.7.3) (2.10.3)\n",
      "Requirement already satisfied: albucore==0.0.21 in c:\\users\\julie\\appdata\\local\\programs\\python\\python312\\lib\\site-packages (from albumentations->insightface==0.7.3) (0.0.21)\n",
      "Requirement already satisfied: eval-type-backport in c:\\users\\julie\\appdata\\local\\programs\\python\\python312\\lib\\site-packages (from albumentations->insightface==0.7.3) (0.2.0)\n",
      "Requirement already satisfied: opencv-python-headless>=4.9.0.80 in c:\\users\\julie\\appdata\\local\\programs\\python\\python312\\lib\\site-packages (from albumentations->insightface==0.7.3) (4.10.0.84)\n",
      "Requirement already satisfied: stringzilla>=3.10.4 in c:\\users\\julie\\appdata\\local\\programs\\python\\python312\\lib\\site-packages (from albucore==0.0.21->albumentations->insightface==0.7.3) (3.11.1)\n",
      "Requirement already satisfied: simsimd>=5.9.2 in c:\\users\\julie\\appdata\\local\\programs\\python\\python312\\lib\\site-packages (from albucore==0.0.21->albumentations->insightface==0.7.3) (6.2.1)\n",
      "Requirement already satisfied: contourpy>=1.0.1 in c:\\users\\julie\\appdata\\local\\programs\\python\\python312\\lib\\site-packages (from matplotlib->insightface==0.7.3) (1.2.0)\n",
      "Requirement already satisfied: cycler>=0.10 in c:\\users\\julie\\appdata\\local\\programs\\python\\python312\\lib\\site-packages (from matplotlib->insightface==0.7.3) (0.12.1)\n",
      "Requirement already satisfied: fonttools>=4.22.0 in c:\\users\\julie\\appdata\\local\\programs\\python\\python312\\lib\\site-packages (from matplotlib->insightface==0.7.3) (4.49.0)\n",
      "Requirement already satisfied: kiwisolver>=1.3.1 in c:\\users\\julie\\appdata\\local\\programs\\python\\python312\\lib\\site-packages (from matplotlib->insightface==0.7.3) (1.4.5)\n",
      "Requirement already satisfied: packaging>=20.0 in c:\\users\\julie\\appdata\\roaming\\python\\python312\\site-packages (from matplotlib->insightface==0.7.3) (23.2)\n",
      "Requirement already satisfied: pyparsing>=2.3.1 in c:\\users\\julie\\appdata\\local\\programs\\python\\python312\\lib\\site-packages (from matplotlib->insightface==0.7.3) (3.1.1)\n",
      "Requirement already satisfied: python-dateutil>=2.7 in c:\\users\\julie\\appdata\\local\\programs\\python\\python312\\lib\\site-packages (from matplotlib->insightface==0.7.3) (2.8.2)\n",
      "Requirement already satisfied: protobuf>=3.20.2 in c:\\users\\julie\\appdata\\local\\programs\\python\\python312\\lib\\site-packages (from onnx->insightface==0.7.3) (4.25.3)\n",
      "Requirement already satisfied: wcwidth in c:\\users\\julie\\appdata\\roaming\\python\\python312\\site-packages (from prettytable->insightface==0.7.3) (0.2.13)\n",
      "Requirement already satisfied: charset-normalizer<4,>=2 in c:\\users\\julie\\appdata\\local\\programs\\python\\python312\\lib\\site-packages (from requests->insightface==0.7.3) (3.3.2)\n",
      "Requirement already satisfied: idna<4,>=2.5 in c:\\users\\julie\\appdata\\local\\programs\\python\\python312\\lib\\site-packages (from requests->insightface==0.7.3) (3.7)\n",
      "Requirement already satisfied: urllib3<3,>=1.21.1 in c:\\users\\julie\\appdata\\local\\programs\\python\\python312\\lib\\site-packages (from requests->insightface==0.7.3) (2.2.1)\n",
      "Requirement already satisfied: certifi>=2017.4.17 in c:\\users\\julie\\appdata\\local\\programs\\python\\python312\\lib\\site-packages (from requests->insightface==0.7.3) (2024.2.2)\n",
      "Requirement already satisfied: networkx>=2.8 in c:\\users\\julie\\appdata\\local\\programs\\python\\python312\\lib\\site-packages (from scikit-image->insightface==0.7.3) (3.2.1)\n",
      "Requirement already satisfied: imageio>=2.33 in c:\\users\\julie\\appdata\\local\\programs\\python\\python312\\lib\\site-packages (from scikit-image->insightface==0.7.3) (2.36.0)\n",
      "Requirement already satisfied: tifffile>=2022.8.12 in c:\\users\\julie\\appdata\\local\\programs\\python\\python312\\lib\\site-packages (from scikit-image->insightface==0.7.3) (2024.9.20)\n",
      "Requirement already satisfied: lazy-loader>=0.4 in c:\\users\\julie\\appdata\\local\\programs\\python\\python312\\lib\\site-packages (from scikit-image->insightface==0.7.3) (0.4)\n",
      "Requirement already satisfied: joblib>=1.2.0 in c:\\users\\julie\\appdata\\local\\programs\\python\\python312\\lib\\site-packages (from scikit-learn->insightface==0.7.3) (1.4.2)\n",
      "Requirement already satisfied: threadpoolctl>=2.0.0 in c:\\users\\julie\\appdata\\local\\programs\\python\\python312\\lib\\site-packages (from scikit-learn->insightface==0.7.3) (3.3.0)\n",
      "Requirement already satisfied: colorama in c:\\users\\julie\\appdata\\roaming\\python\\python312\\site-packages (from tqdm->insightface==0.7.3) (0.4.6)\n",
      "Requirement already satisfied: annotated-types>=0.6.0 in c:\\users\\julie\\appdata\\local\\programs\\python\\python312\\lib\\site-packages (from pydantic>=2.9.2->albumentations->insightface==0.7.3) (0.7.0)\n",
      "Requirement already satisfied: pydantic-core==2.27.1 in c:\\users\\julie\\appdata\\local\\programs\\python\\python312\\lib\\site-packages (from pydantic>=2.9.2->albumentations->insightface==0.7.3) (2.27.1)\n",
      "Requirement already satisfied: typing-extensions>=4.12.2 in c:\\users\\julie\\appdata\\local\\programs\\python\\python312\\lib\\site-packages (from pydantic>=2.9.2->albumentations->insightface==0.7.3) (4.12.2)\n",
      "Requirement already satisfied: six>=1.5 in c:\\users\\julie\\appdata\\local\\programs\\python\\python312\\lib\\site-packages (from python-dateutil>=2.7->matplotlib->insightface==0.7.3) (1.16.0)\n"
     ]
    }
   ],
   "source": [
    "!pip install torchvision\n",
    "!pip install onnx==1.16.1\n",
    "!pip install insightface==0.7.3\n"
   ]
  },
  {
   "cell_type": "code",
   "execution_count": 3,
   "metadata": {},
   "outputs": [
    {
     "ename": "ModuleNotFoundError",
     "evalue": "No module named 'torch'",
     "output_type": "error",
     "traceback": [
      "\u001b[1;31m---------------------------------------------------------------------------\u001b[0m",
      "\u001b[1;31mModuleNotFoundError\u001b[0m                       Traceback (most recent call last)",
      "Cell \u001b[1;32mIn[3], line 2\u001b[0m\n\u001b[0;32m      1\u001b[0m \u001b[38;5;28;01mimport\u001b[39;00m \u001b[38;5;21;01mos\u001b[39;00m\n\u001b[1;32m----> 2\u001b[0m \u001b[38;5;28;01mimport\u001b[39;00m \u001b[38;5;21;01mtorch\u001b[39;00m\n\u001b[0;32m      3\u001b[0m \u001b[38;5;28;01mfrom\u001b[39;00m \u001b[38;5;21;01mtorch\u001b[39;00m \u001b[38;5;28;01mimport\u001b[39;00m nn, optim\n\u001b[0;32m      4\u001b[0m \u001b[38;5;28;01mfrom\u001b[39;00m \u001b[38;5;21;01mtorch\u001b[39;00m\u001b[38;5;21;01m.\u001b[39;00m\u001b[38;5;21;01mutils\u001b[39;00m\u001b[38;5;21;01m.\u001b[39;00m\u001b[38;5;21;01mdata\u001b[39;00m \u001b[38;5;28;01mimport\u001b[39;00m DataLoader\n",
      "\u001b[1;31mModuleNotFoundError\u001b[0m: No module named 'torch'"
     ]
    }
   ],
   "source": [
    "import os\n",
    "import torch\n",
    "from torch import nn, optim\n",
    "from torch.utils.data import DataLoader\n",
    "from torchvision import datasets, transforms\n",
    "from insightface.app import FaceAnalysis\n",
    "from insightface.model_zoo import get_model\n",
    "import cv2"
   ]
  },
  {
   "cell_type": "code",
   "execution_count": null,
   "metadata": {},
   "outputs": [
    {
     "name": "stdout",
     "output_type": "stream",
     "text": [
      "Classes : {'FANLE': 0, 'FANWA': 1, 'FLANLE': 2, 'JEJE': 3, 'JOYA': 4, 'PELEY': 5}\n"
     ]
    }
   ],
   "source": [
    "# Chemins vers les datasets\n",
    "dataset_path = \"../../../ChimpRec-Dataset/Chimpanzee_recognition_dataset\"\n",
    "\n",
    "# Transformations d'image (redimensionnement, normalisation, etc.)\n",
    "transform = transforms.Compose([\n",
    "    transforms.Resize((112, 112)),  # Taille standard pour ArcFace\n",
    "    transforms.ToTensor(),\n",
    "    transforms.Normalize([0.5, 0.5, 0.5], [0.5, 0.5, 0.5])  # Normalisation pour -1 à 1\n",
    "])\n",
    "\n",
    "# Chargement des datasets\n",
    "train_dataset = datasets.ImageFolder(os.path.join(dataset_path, \"train\"), transform=transform)\n",
    "val_dataset = datasets.ImageFolder(os.path.join(dataset_path, \"val\"), transform=transform)\n",
    "\n",
    "# Création des DataLoaders\n",
    "train_loader = DataLoader(train_dataset, batch_size=32, shuffle=True, num_workers=4)\n",
    "val_loader = DataLoader(val_dataset, batch_size=32, shuffle=False, num_workers=4)\n",
    "\n",
    "# Mapping des classes\n",
    "class_to_idx = train_dataset.class_to_idx\n",
    "print(\"Classes :\", class_to_idx)\n"
   ]
  },
  {
   "cell_type": "code",
   "execution_count": 4,
   "metadata": {},
   "outputs": [
    {
     "ename": "ModuleNotFoundError",
     "evalue": "No module named 'insightface'",
     "output_type": "error",
     "traceback": [
      "\u001b[1;31m---------------------------------------------------------------------------\u001b[0m",
      "\u001b[1;31mModuleNotFoundError\u001b[0m                       Traceback (most recent call last)",
      "Cell \u001b[1;32mIn[4], line 1\u001b[0m\n\u001b[1;32m----> 1\u001b[0m \u001b[38;5;28;01mfrom\u001b[39;00m \u001b[38;5;21;01minsightface\u001b[39;00m\u001b[38;5;21;01m.\u001b[39;00m\u001b[38;5;21;01mmodel_zoo\u001b[39;00m \u001b[38;5;28;01mimport\u001b[39;00m model_store\n\u001b[0;32m      3\u001b[0m \u001b[38;5;28mprint\u001b[39m(\u001b[38;5;124m\"\u001b[39m\u001b[38;5;124mModèles disponibles :\u001b[39m\u001b[38;5;124m\"\u001b[39m, model_store)\n",
      "\u001b[1;31mModuleNotFoundError\u001b[0m: No module named 'insightface'"
     ]
    }
   ],
   "source": [
    "from insightface.model_zoo import model_store\n",
    "\n",
    "print(\"Modèles disponibles :\", model_store)"
   ]
  },
  {
   "cell_type": "code",
   "execution_count": null,
   "metadata": {},
   "outputs": [
    {
     "ename": "AttributeError",
     "evalue": "'NoneType' object has no attribute 'prepare'",
     "output_type": "error",
     "traceback": [
      "\u001b[1;31m---------------------------------------------------------------------------\u001b[0m",
      "\u001b[1;31mAttributeError\u001b[0m                            Traceback (most recent call last)",
      "Cell \u001b[1;32mIn[32], line 2\u001b[0m\n\u001b[0;32m      1\u001b[0m arcface_model \u001b[38;5;241m=\u001b[39m get_model(\u001b[38;5;124m'\u001b[39m\u001b[38;5;124marcface_r100_v1\u001b[39m\u001b[38;5;124m'\u001b[39m) \n\u001b[1;32m----> 2\u001b[0m \u001b[43marcface_model\u001b[49m\u001b[38;5;241;43m.\u001b[39;49m\u001b[43mprepare\u001b[49m(ctx_id\u001b[38;5;241m=\u001b[39m\u001b[38;5;241m0\u001b[39m)\n",
      "\u001b[1;31mAttributeError\u001b[0m: 'NoneType' object has no attribute 'prepare'"
     ]
    }
   ],
   "source": [
    "arcface_model = get_model('arcface_r100_v1') \n",
    "arcface_model.prepare(ctx_id=0)\n"
   ]
  },
  {
   "cell_type": "code",
   "execution_count": null,
   "metadata": {},
   "outputs": [
    {
     "name": "stdout",
     "output_type": "stream",
     "text": [
      "Classes : {'FANLE': 0, 'FANWA': 1, 'FLANLE': 2, 'JEJE': 3, 'JOYA': 4, 'PELEY': 5}\n"
     ]
    }
   ],
   "source": [
    "# Ajouter une nouvelle tête de classification\n",
    "class ArcFaceFineTuned(nn.Module):\n",
    "    def __init__(self, arcface_model, num_classes):\n",
    "        super(ArcFaceFineTuned, self).__init__()\n",
    "        self.arcface = arcface_model\n",
    "        self.fc = nn.Linear(512, num_classes)  # 512 est la dimension des embeddings ArcFace\n",
    "\n",
    "    def forward(self, x):\n",
    "        embeddings = self.arcface(x)  # Génère des embeddings\n",
    "        logits = self.fc(embeddings)  # Logits pour la classification\n",
    "        return embeddings, logits\n",
    "\n",
    "model = ArcFaceFineTuned(arcface_model, num_classes).to(device)\n",
    "\n",
    "# Définir la perte et l'optimiseur\n",
    "criterion = nn.CrossEntropyLoss()\n",
    "optimizer = optim.Adam(model.parameters(), lr=0.001)\n",
    "\n",
    "# Fonction d'entraînement\n",
    "def train_epoch(model, loader, optimizer, criterion, device):\n",
    "    model.train()\n",
    "    epoch_loss, correct, total = 0.0, 0, 0\n",
    "    for imgs, labels in tqdm(loader):\n",
    "        imgs, labels = imgs.to(device), labels.to(device)\n",
    "        optimizer.zero_grad()\n",
    "        _, logits = model(imgs)\n",
    "        loss = criterion(logits, labels)\n",
    "        loss.backward()\n",
    "        optimizer.step()\n",
    "        epoch_loss += loss.item()\n",
    "        _, preds = torch.max(logits, 1)\n",
    "        correct += (preds == labels).sum().item()\n",
    "        total += labels.size(0)\n",
    "    accuracy = correct / total\n",
    "    return epoch_loss / len(loader), accuracy\n",
    "\n",
    "# Fonction de validation\n",
    "def validate_epoch(model, loader, criterion, device):\n",
    "    model.eval()\n",
    "    epoch_loss, correct, total = 0.0, 0, 0\n",
    "    with torch.no_grad():\n",
    "        for imgs, labels in loader:\n",
    "            imgs, labels = imgs.to(device), labels.to(device)\n",
    "            _, logits = model(imgs)\n",
    "            loss = criterion(logits, labels)\n",
    "            epoch_loss += loss.item()\n",
    "            _, preds = torch.max(logits, 1)\n",
    "            correct += (preds == labels).sum().item()\n",
    "            total += labels.size(0)\n",
    "    accuracy = correct / total\n",
    "    return epoch_loss / len(loader), accuracy\n",
    "\n",
    "# Entraînement du modèle\n",
    "num_epochs = 10\n",
    "for epoch in range(num_epochs):\n",
    "    train_loss, train_acc = train_epoch(model, train_loader, optimizer, criterion, device)\n",
    "    val_loss, val_acc = validate_epoch(model, val_loader, criterion, device)\n",
    "    print(f\"Epoch {epoch+1}/{num_epochs}:\")\n",
    "    print(f\"  Train Loss: {train_loss:.4f}, Train Accuracy: {train_acc:.4f}\")\n",
    "    print(f\"  Val Loss: {val_loss:.4f}, Val Accuracy: {val_acc:.4f}\")\n",
    "\n",
    "# Sauvegarde du modèle\n",
    "torch.save(model.state_dict(), \"fine_tuned_arcface_chimpanzees.pth\")\n",
    "print(\"Modèle fine-tuné sauvegardé.\")\n"
   ]
  }
 ],
 "metadata": {
  "kernelspec": {
   "display_name": "Python 3",
   "language": "python",
   "name": "python3"
  },
  "language_info": {
   "codemirror_mode": {
    "name": "ipython",
    "version": 3
   },
   "file_extension": ".py",
   "mimetype": "text/x-python",
   "name": "python",
   "nbconvert_exporter": "python",
   "pygments_lexer": "ipython3",
   "version": "3.9.0"
  }
 },
 "nbformat": 4,
 "nbformat_minor": 2
}
