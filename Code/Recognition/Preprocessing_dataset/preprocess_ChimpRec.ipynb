{
 "cells": [
  {
   "cell_type": "code",
   "execution_count": null,
   "metadata": {},
   "outputs": [],
   "source": [
    "import sys \n",
    "#path to append: \"./ChimpRec/Code\"\n",
    "sys.path.append(...)\n",
    "\n",
    "from chimplib.imports import os, sklearn, shutil "
   ]
  },
  {
   "cell_type": "code",
   "execution_count": null,
   "metadata": {},
   "outputs": [],
   "source": [
    "# @input:\n",
    "# path: path of the directory to be created or reset\n",
    "# @output:\n",
    "# None. If the directory already exists, it is deleted and recreated empty.\n",
    "def create_clean_directory(path):\n",
    "    if os.path.exists(path):\n",
    "        shutil.rmtree(path)  \n",
    "    os.makedirs(path)   \n",
    "\n",
    "# @input:\n",
    "# imgs: list of image filenames (for example \"AD1.jpg\")\n",
    "# @output:\n",
    "# labels: list of  corresponding label filenames (for example \"AD1.txt\")\n",
    "def get_corresponding_labels(imgs): \n",
    "    labels = []\n",
    "    for img in imgs: \n",
    "        labels.append(f\"{img[:-3]}txt\")\n",
    "    return labels\n",
    "\n",
    "# @input:\n",
    "# elems: list of filenames to be copied\n",
    "# source: source directory path\n",
    "# destination: destination directory path\n",
    "# # @output:\n",
    "# None. Copies each file from the source directory to the destination\n",
    "def copy_element(elems, source, destination): \n",
    "    for elem in elems: \n",
    "        shutil.copy(f\"{source}/{elem}\", f\"{destination}/{elem}\")"
   ]
  },
  {
   "cell_type": "code",
   "execution_count": null,
   "metadata": {},
   "outputs": [],
   "source": [
    "general_dataset = \"...\"\n",
    "preprocessed_dataset = \"...\""
   ]
  },
  {
   "cell_type": "code",
   "execution_count": null,
   "metadata": {},
   "outputs": [],
   "source": [
    "individuals = os.listdir(general_dataset)\n",
    "\n",
    "for ind in individuals: \n",
    "    general_ind_img_dir = f\"{general_dataset}/{ind}/images\"\n",
    "    general_ind_labels_dir = f\"{general_dataset}/{ind}/labels/obj_train_data\"\n",
    "    #divides the dataset with all images into 80% training set and 20% validation set\n",
    "    train_img, val_img = sklearn.model_selection.train_test_split(os.listdir(general_ind_img_dir), test_size=0.2, random_state=42)\n",
    "    train_labels = get_corresponding_labels(train_img)\n",
    "    val_labels = get_corresponding_labels(val_img)\n",
    "\n",
    "    preprocess_train_ind_img_dir = f\"{preprocessed_dataset}/train/{ind}/images\"\n",
    "    preprocess_train_ind_labels_dir = f\"{preprocessed_dataset}/train/{ind}/labels\"\n",
    "    preprocess_val_ind_img_dir = f\"{preprocessed_dataset}/val/{ind}/images\"\n",
    "    preprocess_val_ind_labels_dir = f\"{preprocessed_dataset}/val/{ind}/labels\"\n",
    "    \n",
    "    create_clean_directory(f\"{preprocessed_dataset}/train/{ind}\")\n",
    "    create_clean_directory(f\"{preprocessed_dataset}/val/{ind}\")\n",
    "    create_clean_directory(preprocess_train_ind_img_dir)\n",
    "    create_clean_directory(preprocess_train_ind_labels_dir)\n",
    "    create_clean_directory(preprocess_val_ind_img_dir)\n",
    "    create_clean_directory(preprocess_val_ind_labels_dir)\n",
    "\n",
    "    copy_element(train_img, general_ind_img_dir, preprocess_train_ind_img_dir)\n",
    "    copy_element(val_img, general_ind_img_dir, preprocess_val_ind_img_dir)\n",
    "    copy_element(train_labels, general_ind_labels_dir, preprocess_train_ind_labels_dir)\n",
    "    copy_element(val_labels, general_ind_labels_dir, preprocess_val_ind_labels_dir)"
   ]
  }
 ],
 "metadata": {
  "kernelspec": {
   "display_name": "Python 3",
   "language": "python",
   "name": "python3"
  },
  "language_info": {
   "codemirror_mode": {
    "name": "ipython",
    "version": 3
   },
   "file_extension": ".py",
   "mimetype": "text/x-python",
   "name": "python",
   "nbconvert_exporter": "python",
   "pygments_lexer": "ipython3",
   "version": "3.11.9"
  }
 },
 "nbformat": 4,
 "nbformat_minor": 2
}
