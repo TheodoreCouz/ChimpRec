{
 "cells": [
  {
   "cell_type": "code",
   "execution_count": 2,
   "metadata": {
    "vscode": {
     "languageId": "bat"
    }
   },
   "outputs": [
    {
     "name": "stdout",
     "output_type": "stream",
     "text": [
      "Collecting keras-vggface\n",
      "  Downloading keras_vggface-0.6-py3-none-any.whl.metadata (604 bytes)\n",
      "Requirement already satisfied: numpy>=1.9.1 in c:\\users\\julie\\appdata\\local\\programs\\python\\python312\\lib\\site-packages (from keras-vggface) (1.26.4)\n",
      "Requirement already satisfied: scipy>=0.14 in c:\\users\\julie\\appdata\\local\\programs\\python\\python312\\lib\\site-packages (from keras-vggface) (1.12.0)\n",
      "Requirement already satisfied: h5py in c:\\users\\julie\\appdata\\local\\programs\\python\\python312\\lib\\site-packages (from keras-vggface) (3.11.0)\n",
      "Requirement already satisfied: pillow in c:\\users\\julie\\appdata\\local\\programs\\python\\python312\\lib\\site-packages (from keras-vggface) (10.2.0)\n",
      "Requirement already satisfied: keras in c:\\users\\julie\\appdata\\local\\programs\\python\\python312\\lib\\site-packages (from keras-vggface) (3.3.3)\n",
      "Requirement already satisfied: six>=1.9.0 in c:\\users\\julie\\appdata\\local\\programs\\python\\python312\\lib\\site-packages (from keras-vggface) (1.16.0)\n",
      "Collecting pyyaml (from keras-vggface)\n",
      "  Downloading PyYAML-6.0.2-cp312-cp312-win_amd64.whl.metadata (2.1 kB)\n",
      "Requirement already satisfied: absl-py in c:\\users\\julie\\appdata\\local\\programs\\python\\python312\\lib\\site-packages (from keras->keras-vggface) (2.1.0)\n",
      "Requirement already satisfied: rich in c:\\users\\julie\\appdata\\local\\programs\\python\\python312\\lib\\site-packages (from keras->keras-vggface) (13.7.1)\n",
      "Requirement already satisfied: namex in c:\\users\\julie\\appdata\\local\\programs\\python\\python312\\lib\\site-packages (from keras->keras-vggface) (0.0.8)\n",
      "Requirement already satisfied: optree in c:\\users\\julie\\appdata\\local\\programs\\python\\python312\\lib\\site-packages (from keras->keras-vggface) (0.11.0)\n",
      "Requirement already satisfied: ml-dtypes in c:\\users\\julie\\appdata\\local\\programs\\python\\python312\\lib\\site-packages (from keras->keras-vggface) (0.3.2)\n",
      "Requirement already satisfied: typing-extensions>=4.0.0 in c:\\users\\julie\\appdata\\local\\programs\\python\\python312\\lib\\site-packages (from optree->keras->keras-vggface) (4.11.0)\n",
      "Requirement already satisfied: markdown-it-py>=2.2.0 in c:\\users\\julie\\appdata\\local\\programs\\python\\python312\\lib\\site-packages (from rich->keras->keras-vggface) (3.0.0)\n",
      "Requirement already satisfied: pygments<3.0.0,>=2.13.0 in c:\\users\\julie\\appdata\\roaming\\python\\python312\\site-packages (from rich->keras->keras-vggface) (2.17.2)\n",
      "Requirement already satisfied: mdurl~=0.1 in c:\\users\\julie\\appdata\\local\\programs\\python\\python312\\lib\\site-packages (from markdown-it-py>=2.2.0->rich->keras->keras-vggface) (0.1.2)\n",
      "Downloading keras_vggface-0.6-py3-none-any.whl (8.3 kB)\n",
      "Downloading PyYAML-6.0.2-cp312-cp312-win_amd64.whl (156 kB)\n",
      "Installing collected packages: pyyaml, keras-vggface\n",
      "Successfully installed keras-vggface-0.6 pyyaml-6.0.2\n"
     ]
    },
    {
     "name": "stderr",
     "output_type": "stream",
     "text": [
      "\n",
      "[notice] A new release of pip is available: 24.2 -> 24.3.1\n",
      "[notice] To update, run: python.exe -m pip install --upgrade pip\n"
     ]
    },
    {
     "name": "stdout",
     "output_type": "stream",
     "text": [
      "Collecting keras-applications\n",
      "  Downloading Keras_Applications-1.0.8-py3-none-any.whl.metadata (1.7 kB)\n",
      "Requirement already satisfied: numpy>=1.9.1 in c:\\users\\julie\\appdata\\local\\programs\\python\\python312\\lib\\site-packages (from keras-applications) (1.26.4)\n",
      "Requirement already satisfied: h5py in c:\\users\\julie\\appdata\\local\\programs\\python\\python312\\lib\\site-packages (from keras-applications) (3.11.0)\n",
      "Downloading Keras_Applications-1.0.8-py3-none-any.whl (50 kB)\n",
      "Installing collected packages: keras-applications\n",
      "Successfully installed keras-applications-1.0.8\n"
     ]
    },
    {
     "name": "stderr",
     "output_type": "stream",
     "text": [
      "\n",
      "[notice] A new release of pip is available: 24.2 -> 24.3.1\n",
      "[notice] To update, run: python.exe -m pip install --upgrade pip\n"
     ]
    }
   ],
   "source": [
    "!pip install keras-vggface\n",
    "!pip install keras-applications"
   ]
  },
  {
   "cell_type": "code",
   "execution_count": null,
   "metadata": {},
   "outputs": [],
   "source": [
    "from keras_vggface.vggface import VGGFace\n",
    "from keras.models import Model\n",
    "from keras.layers import Dense, Flatten\n",
    "from keras.optimizers import Adam"
   ]
  },
  {
   "cell_type": "markdown",
   "metadata": {},
   "source": [
    "Pour réentraîner le modèle sur les chimpanzés:"
   ]
  },
  {
   "cell_type": "code",
   "execution_count": null,
   "metadata": {},
   "outputs": [],
   "source": [
    "# Charger le modèle VGGFace pré-entraîné\n",
    "model = VGGFace(model='vgg16')  # Options : 'vgg16', 'resnet50', 'senet50'\n",
    "# Geler les couches pré-entraînées\n",
    "for layer in model.layers:\n",
    "    layer.trainable = False\n",
    "\n",
    "# Ajouter de nouvelles couches pour le fine-tuning\n",
    "x = Flatten()(model.output)\n",
    "x = Dense(128, activation='relu')(x)\n",
    "x = Dense(num_classes, activation='softmax')(x)  # Adapter au nombre de classes\n",
    "custom_model = Model(inputs=model.input, outputs=x)\n",
    "\n",
    "# Compiler le modèle\n",
    "custom_model.compile(optimizer=Adam(learning_rate=0.0001), loss='categorical_crossentropy', metrics=['accuracy'])\n"
   ]
  },
  {
   "cell_type": "code",
   "execution_count": null,
   "metadata": {},
   "outputs": [],
   "source": [
    "custom_model.fit(train_generator, validation_data=val_generator, epochs=10)"
   ]
  },
  {
   "cell_type": "code",
   "execution_count": null,
   "metadata": {},
   "outputs": [],
   "source": [
    "# Générer des embeddings\n",
    "embeddings = custom_model.predict(image_data)"
   ]
  }
 ],
 "metadata": {
  "kernelspec": {
   "display_name": "Python 3",
   "language": "python",
   "name": "python3"
  },
  "language_info": {
   "codemirror_mode": {
    "name": "ipython",
    "version": 3
   },
   "file_extension": ".py",
   "mimetype": "text/x-python",
   "name": "python",
   "nbconvert_exporter": "python",
   "pygments_lexer": "ipython3",
   "version": "3.12.2"
  }
 },
 "nbformat": 4,
 "nbformat_minor": 2
}
