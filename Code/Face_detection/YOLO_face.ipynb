{
 "cells": [
  {
   "cell_type": "code",
   "execution_count": null,
   "metadata": {},
   "outputs": [],
   "source": [
    "from ultralytics import YOLO"
   ]
  },
  {
   "cell_type": "code",
   "execution_count": null,
   "metadata": {},
   "outputs": [],
   "source": [
    "from ultralytics import YOLO\n",
    "import os\n",
    "os.environ[\"CUDA_LAUNCH_BLOCKING\"] = \"1\"\n",
    "\n",
    "# Charger le modèle YOLOv8 (inutile d'ajouter .to(\"cuda\"))\n",
    "model = YOLO(\"yolov8s.yaml\")\n",
    "\n",
    "# Entraîner le modèle en spécifiant device=\"cuda\"\n",
    "results = model.train(data=\"config.yaml\", epochs=150, batch=32, patience=15, device=\"cuda\")\n",
    "\n"
   ]
  }
 ],
 "metadata": {
  "kernelspec": {
   "display_name": "Python 3",
   "language": "python",
   "name": "python3"
  },
  "language_info": {
   "name": "python",
   "version": "3.12.2"
  }
 },
 "nbformat": 4,
 "nbformat_minor": 2
}
