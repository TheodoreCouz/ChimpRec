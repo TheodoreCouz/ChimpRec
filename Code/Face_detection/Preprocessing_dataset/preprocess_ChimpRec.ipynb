{
 "cells": [
  {
   "cell_type": "code",
   "execution_count": null,
   "metadata": {},
   "outputs": [],
   "source": [
    "import sys \n",
    "#path to append: \"./ChimpRec/Code\"\n",
    "sys.path.append(...)\n",
    "\n",
    "from chimplib.imports import plt, os, np, Image\n",
    "from chimplib.utils import yolo_to_pixel_coord, face_to_yolo_relative_to_body"
   ]
  },
  {
   "cell_type": "code",
   "execution_count": null,
   "metadata": {},
   "outputs": [],
   "source": [
    "#path to facial recognition dataset folder\n",
    "chimprec_recognition_dataset_path = ...\n",
    "#path of the folder in which the dataset is to be stored\n",
    "output_dataset = ..."
   ]
  },
  {
   "cell_type": "code",
   "execution_count": null,
   "metadata": {},
   "outputs": [
    {
     "name": "stdout",
     "output_type": "stream",
     "text": [
      "AD\n",
      "BL\n",
      "BS\n",
      "DK\n",
      "IV\n",
      "JJ\n",
      "KG\n",
      "KM\n",
      "KR\n",
      "LM\n",
      "MG\n",
      "MK\n",
      "MM\n",
      "MZ\n",
      "NJ\n",
      "NR\n",
      "PD\n",
      "TC\n",
      "TS\n",
      "TT\n"
     ]
    }
   ],
   "source": [
    "counter = 0\n",
    "for set in [\"train\", \"val\"]:\n",
    "    #dirs contains a list of folder names of each individual\n",
    "    dirs = []\n",
    "    for entry in os.listdir(os.path.join(chimprec_recognition_dataset_path, set)):\n",
    "        entry_path = os.path.join(chimprec_recognition_dataset_path, entry)\n",
    "        if os.path.isdir(entry_path):\n",
    "            dirs.append(entry)\n",
    "\n",
    "    for dir in dirs:\n",
    "        images_dir = os.path.join(chimprec_recognition_dataset_path, set, dir, \"images\")\n",
    "        labels_dir = os.path.join(chimprec_recognition_dataset_path, set, dir, \"labels\")\n",
    "\n",
    "        #recursively browse the folder and its subfolders\n",
    "        for _, _, files in os.walk(images_dir):\n",
    "            for file in files:\n",
    "                img_path = os.path.join(images_dir, file)\n",
    "                label_path = os.path.join(labels_dir, file.replace(\".png\", \".txt\"))\n",
    "\n",
    "                image = Image.open(img_path)\n",
    "                frame = np.array(image)\n",
    "\n",
    "                face_coord = None\n",
    "                body_coord = None\n",
    "\n",
    "                with open(label_path, \"r\") as f:\n",
    "                    for line in f:\n",
    "                        values = line.strip().split(\" \")\n",
    "                        \n",
    "                        #1 is the id assigned to body bbox annotations and 0 to face bbox annotations\n",
    "                        if values[0] == \"1\":\n",
    "                            body_coord = tuple(map(float, values[1:]))\n",
    "                        elif values[0] == \"0\":\n",
    "                            face_coord = tuple(map(float, values[1:]))\n",
    "\n",
    "                if body_coord == None or face_coord == None: \n",
    "                    continue\n",
    "                \n",
    "                #crop the image around the body then save in the right place\n",
    "                height, width, _ = frame.shape\n",
    "                bx1, by1, bx2, by2 = yolo_to_pixel_coord(body_coord, width, height)\n",
    "                cropped_body = frame[by1:by2, bx1:bx2]\n",
    "                image_pil = Image.fromarray(np.uint8(cropped_body))\n",
    "                image_pil.save(f\"{output_dataset}/images/chimp{counter}.png\")\n",
    "\n",
    "                #recalculate the face bbox according to the iamge crop around the body and save in the right place\n",
    "                fx1, fy1, fx2, fy2 = yolo_to_pixel_coord(face_coord, width, height)\n",
    "                relative_face = face_to_yolo_relative_to_body((bx1, by1, bx2, by2), (fx1, fy1, fx2, fy2))\n",
    "                with open(f\"{output_dataset}/labels/chimp{counter}.txt\", \"w\") as file:\n",
    "                    file.write(\"0 \" + \" \".join(map(str, relative_face))) \n",
    "                \n",
    "                counter += 1"
   ]
  }
 ],
 "metadata": {
  "kernelspec": {
   "display_name": "Python 3",
   "language": "python",
   "name": "python3"
  },
  "language_info": {
   "codemirror_mode": {
    "name": "ipython",
    "version": 3
   },
   "file_extension": ".py",
   "mimetype": "text/x-python",
   "name": "python",
   "nbconvert_exporter": "python",
   "pygments_lexer": "ipython3",
   "version": "3.11.9"
  }
 },
 "nbformat": 4,
 "nbformat_minor": 2
}
